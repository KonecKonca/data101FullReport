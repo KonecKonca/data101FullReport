{
 "cells": [
  {
   "cell_type": "code",
   "execution_count": 6,
   "metadata": {
    "scrolled": true
   },
   "outputs": [
    {
     "name": "stdout",
     "output_type": "stream",
     "text": [
      "((2,50,628),55983)\n",
      "((2,50,675),38753)\n",
      "((2,50,365),28730)\n"
     ]
    },
    {
     "data": {
      "text/plain": [
       "spark: org.apache.spark.sql.SparkSession = org.apache.spark.sql.SparkSession@17da68ff\n",
       "loadedData: org.apache.spark.sql.DataFrame = [id: string, date_time: string ... 20 more fields]\n"
      ]
     },
     "execution_count": 6,
     "metadata": {},
     "output_type": "execute_result"
    }
   ],
   "source": [
    "val spark = org.apache.spark.sql.SparkSession\n",
    "    .builder\n",
    "    .master(\"local\")\n",
    "    .appName(\"SparkFromJupyter\")\n",
    "    .getOrCreate()\n",
    "\n",
    "val loadedData = spark\n",
    "    .read\n",
    "    .format(\"csv\")\n",
    "    .option(\"header\", \"true\")\n",
    "    .option(\"mode\", \"DROPMALFORMED\")\n",
    "    .load(\"/home/jovyan/test.csv\")\n",
    "\n",
    "loadedData\n",
    "    .rdd\n",
    "    .filter(row => row.getAs[String](14) != null \n",
    "            && row.getAs[String](14).equals(\"2\"))\n",
    "    .map(row => (\n",
    "        (\n",
    "         row.getAs[String](19), \n",
    "         row.getAs[String](20), \n",
    "         row.getAs[String](21))\n",
    "        , \n",
    "        1)\n",
    "        )\n",
    "    .reduceByKey(_ + _)\n",
    "    .sortBy(tuple => -tuple._2)\n",
    "    .take(3)\n",
    "    .foreach(println)"
   ]
  },
  {
   "cell_type": "code",
   "execution_count": null,
   "metadata": {},
   "outputs": [],
   "source": []
  },
  {
   "cell_type": "code",
   "execution_count": null,
   "metadata": {},
   "outputs": [],
   "source": []
  }
 ],
 "metadata": {
  "kernelspec": {
   "display_name": "spylon-kernel",
   "language": "scala",
   "name": "spylon-kernel"
  },
  "language_info": {
   "codemirror_mode": "text/x-scala",
   "file_extension": ".scala",
   "help_links": [
    {
     "text": "MetaKernel Magics",
     "url": "https://github.com/calysto/metakernel/blob/master/metakernel/magics/README.md"
    }
   ],
   "mimetype": "text/x-scala",
   "name": "scala",
   "pygments_lexer": "scala",
   "version": "0.4.1"
  }
 },
 "nbformat": 4,
 "nbformat_minor": 2
}
